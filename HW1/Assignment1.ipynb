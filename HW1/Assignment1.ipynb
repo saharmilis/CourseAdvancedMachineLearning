{
 "cells": [
  {
   "cell_type": "markdown",
   "metadata": {},
   "source": [
    "# Exercise 1 – Probability & Statistics Refresher\n",
    "by Millis Sahar, ID 300420379"
   ]
  },
  {
   "cell_type": "markdown",
   "metadata": {},
   "source": [
    "## Q1\n",
    "\n",
    "**There are 1000 coins, which look identical. However, 999 of them are “fair” (i.e. when tossing the coin, the probability to get “heads” is 0.5), and one coin is forged (i.e. when tossing the coin, the probability to get “heads” is 0.9).**   \n",
    "\n",
    "**Assuming we selected on random one coin and toss it 10 times, and got “heads” in 9 out of the 10 tosses.**"
   ]
  },
  {
   "cell_type": "markdown",
   "metadata": {},
   "source": [
    "**A. What is the probability that this is the forged coin?**"
   ]
  },
  {
   "cell_type": "markdown",
   "metadata": {},
   "source": [
    "Using the Bayes rule:\n",
    "\n",
    "$ Pr\\big(fair\\big) \\enspace \\enspace = \\frac{999}{1000} = 0.999 $  \n",
    "\n",
    "$ Pr\\big(forged\\big) = \\frac{1}{1000} = 0.001 $\n",
    "\n",
    "<br>\n",
    "\n",
    "$ Pr\\big ( 9H \\enspace|\\enspace fair \\big )  \\enspace\\enspace= {10 \\choose 9}{0.5}^{9}{0.5}^{1} = 0.009765625 $  \n",
    "\n",
    "$ Pr\\big ( 9H \\enspace|\\enspace forged \\big ) = {10 \\choose 9} {0.9}^{9}\\cdot{0.1}^{1} = 0.387420489 $  \n",
    "\n",
    "<br>\n",
    "$ Pr\\big(9H\\big) = Pr\\big(fair\\big) \\cdot Pr\\big(9H \\enspace|\\enspace fair \\big) + Pr\\big(forged\\big) \\cdot Pr\\big(9H \\enspace|\\enspace forged\\big) =  $   \n",
    "$ = 0.999\\cdot{10 \\choose 9}{0.5}^{9}{0.5}^{1}  + 0.001\\cdot {10 \\choose 9} {0.9}^{9}\\cdot{0.1}^{1} = 0.999 \\cdot 0.009765625 + 0.001 \\cdot 0.387420489 = 0.01014327986 $\n",
    "\n",
    "<br>\n",
    "<br>\n",
    "\n",
    "$ Pr\\big(forged \\enspace|\\enspace 9H\\big) = \\frac{Pr\\big(9H \\enspace|\\enspace forged\\big) \\cdot Pr\\big(forged\\big)}{Pr\\big(9H\\big)} =  \\frac{0.387420489\\cdot0.001}{0.01014327986} = 0.03819479442 $\n",
    "\n",
    "The probability it's the forged coin is 0.04 (4%)\n",
    "\n",
    "<br><br>"
   ]
  },
  {
   "cell_type": "markdown",
   "metadata": {},
   "source": [
    "**B. What is the probability that this is one of the “fair” coins?**\n",
    "\n",
    "$ Pr\\big(fair \\enspace|\\enspace 9H\\big) = 1 - Pr\\big(forged \\enspace|\\enspace 9H\\big) = 1 - 0.03819479442 = 0.96180520558$  \n",
    "\n",
    "The probability it's one of the fair coins is 0.96 (96%)"
   ]
  },
  {
   "cell_type": "markdown",
   "metadata": {},
   "source": [
    "<br><br><br>\n",
    "<br><br><br>"
   ]
  },
  {
   "cell_type": "markdown",
   "metadata": {},
   "source": [
    "# Q2\n",
    "\n",
    "**In a faraway country, they have a strange culture where they favor girls over boys.  \n",
    "Additionally, they know that boys are trouble, so they settle for one in a family.   \n",
    "Thus, each family give birth until their first son is born, and then they stop (they never take the risk of\n",
    "having two boys – double trouble ...).**  \n",
    "\n",
    "**As a result, families in this country are of the following types:  \n",
    "    a. Boy  \n",
    "    b. Girl, Boy  \n",
    "    c. Girl, Girl, Boy  \n",
    "    d. Girl, Girl, Girl, Boy  \n",
    "    e. …**  \n",
    "    \n",
    "**Assume that the probability to have a boy/girl in a given birth is 0.5 and all births are i.i.d.   \n",
    "Are there more girls or more boys in this country?**"
   ]
  },
  {
   "cell_type": "markdown",
   "metadata": {},
   "source": [
    "Assuming there are a \"big number\" of families, there will be the **same number of boys and girls.**\n",
    "There are a number of ways to estimate this.\n",
    "\n",
    "`This can be proved by induction, for example:`  \n",
    "Imagine you have **n couples who have n babies** :    \n",
    "$\\Rightarrow \\frac{n}{2}$ couples will have $\\frac{n}{2}$ will be girls.   \n",
    "$\\Rightarrow \\frac{n}{2}$ couples will have $\\frac{n}{2}$ will be boys.     \n",
    "\n",
    "Now the $\\frac{n}{2}$ couples who had $\\frac{n}{2}$ girls will have $\\frac{n}{2}$ more babies:   \n",
    "$\\Rightarrow \\frac{n}{4}$ couples will have $\\frac{n}{4}$ will be girls.     \n",
    "$\\Rightarrow \\frac{n}{4}$ couples will have $\\frac{n}{4}$ will be boys.     \n",
    "\n",
    "Now the $\\frac{n}{4}$ couples who had $\\frac{n}{4}$ girls will have $\\frac{n}{4}$ more babies:  \n",
    "$\\Rightarrow \\frac{n}{8}$ couples will have $\\frac{n}{8}$ will be girls.    \n",
    "$\\Rightarrow \\frac{n}{8}$ couples will have $\\frac{n}{8}$ will be boys.    \n",
    "\n",
    "`And so on, maintianing a 50% girls and 50% boys population.`\n",
    "\n",
    "\n",
    "\n",
    "<br>\n",
    "\n",
    "`Also, I could use Geometric distribution as follows:`\n",
    "\n",
    "I'll denote the number of boys in a family as $\\beta$.  \n",
    "I'll denote the number of girls in a family as $\\gamma$.\n",
    "\n",
    "Since Each family has one boy $\\Rightarrow E[\\beta] = E[1] = 1$\n",
    "\n",
    "\n",
    "Ragarding the girls $\\Rightarrow$ Pr(n girls in a family) = Pr(n consecutive girl births) $\\cdot$ Pr(subsequent 1 boy birth)   \n",
    "Then: $P(\\gamma=n) = {P(birth of girl)}^n \\ cdot P(birth of boy) = {0.5}^n \\cdot 0.5 = {0.5}^{n+1}$\n",
    "\n",
    "This is a geometric distribution with a p equals to 0.5.  \n",
    "Therefore, $E_{Geometric}[\\gamma] = \\frac{1-p}{p} = \\frac{1-0.5)}{0.5} = 1$\n",
    "\n",
    "Then:   \n",
    "$E[\\beta]=E[\\gamma]=1 \\enspace\\enspace \\Rightarrow \\enspace\\enspace$  `The expected number of boys is equal to the expected number of girls.`\n"
   ]
  },
  {
   "cell_type": "markdown",
   "metadata": {},
   "source": [
    "<br><br><br>\n",
    "<br><br><br>"
   ]
  },
  {
   "cell_type": "markdown",
   "metadata": {},
   "source": [
    "# Q3\n",
    "\n",
    "Given a random sample $\\{ x_1,x_2,...,x_n \\}$   \n",
    "Calculate the Maximum Likelihood Estimator (MLE) for the parameters $\\Theta$ of the following:\n",
    "\n"
   ]
  },
  {
   "cell_type": "markdown",
   "metadata": {},
   "source": [
    "**a. Binomial: calculate the MLE for p $\\Rightarrow$**  $Pr(k|n,p) = {n \\choose k} p^k {(1-p)}^{n-k}$ "
   ]
  },
  {
   "cell_type": "markdown",
   "metadata": {},
   "source": [
    "`First, I'll look at` $L\\big(\\Theta\\big)$ :     \n",
    "$L\\bigg(\\Theta\\bigg) = ln\\bigg(Pr\\big(D|\\Theta\\big)\\bigg) = ln\\bigg(\\prod_{i=1}^{m} {n \\choose k_i} p^{k_i} {(1-p)^{n-k_i}} \\bigg) = \\sum_{i=1}^{m} ln\\big( {n \\choose k_i} \\big) ln\\big( p^{k_i} \\big) (n-k_i) ln(1-p) =  \\sum_{i=1}^{m} ln\\big( {n \\choose k_i} \\big) k_i ln\\big( p \\big) (n-k_i) ln(1-p)$\n"
   ]
  },
  {
   "cell_type": "markdown",
   "metadata": {},
   "source": [
    "\n",
    "`Second, I'll calculate the derivative of` $\\frac{dL(\\Theta)}{dp} = 0$ :\n",
    "\n",
    "$\\frac{dL(\\Theta)}{dp} = \\frac{1}{p} \\sum_{i=1}^{m}k_i - \\frac{1}{1-p} \\sum_{i=1}^{m}n-k_i$  is equal to zero.\n",
    "\n",
    "\n",
    "$ \\frac{1}{p} \\sum_{i=1}^{m}k_i - \\frac{1}{1-p} \\sum_{i=1}^{m}n-k_i = 0 $  \n",
    "\n",
    "$ \\frac{1}{p} \\sum_{i=1}^{m}k_i = \\frac{1}{1-p} \\sum_{i=1}^{m}n-k_i $  \n",
    "\n",
    "$ \\frac{1-p}{p} = \\frac{\\sum_{i=1}^{m}n-k_i}{\\sum_{i=1}^{m}k_i}  $   \n",
    "\n",
    "$ \\frac{1}{p} - 1 = \\frac{\\sum_{i=1}^{m}n-k_i}{\\sum_{i=1}^{m}k_i}  $  \n",
    "\n",
    "$ \\frac{1}{p} = \\frac{\\sum_{i=1}^{m}n-k_i}{\\sum_{i=1}^{m}k_i} + 1 $  \n",
    "\n",
    "$ \\frac{1}{p} = \\frac{\\sum_{i=1}^{m}n-k_i}{\\sum_{i=1}^{m}k_i} + \\frac{\\sum_{i=1}^{m}k_i}{\\sum_{i=1}^{m}k_i} $   \n",
    "\n",
    "$ \\frac{1}{p} = \\frac{\\sum_{i=1}^{m}n-k_i + \\sum_{i=1}^{m}k_i}{\\sum_{i=1}^{m}k_i} $   \n",
    "\n",
    "$ \\frac{1}{p} = \\frac{\\sum_{i=1}^{m}n-k_i + \\sum_{i=1}^{m}k_i}{\\sum_{i=1}^{m}k_i} $   \n",
    "\n",
    "$ \\frac{1}{p} = \\frac{\\sum_{i=1}^{m}n}{\\sum_{i=1}^{m}k_i} $   \n",
    "\n",
    "$ \\frac{1}{p} = \\frac{m \\cdot n}{\\sum_{i=1}^{m}k_i} $   \n",
    "\n",
    "$ p = \\frac{\\sum_{i=1}^{m}k_i}{m \\cdot n} $   \n",
    "\n",
    "`The MLE for p is`  $\\frac{\\sum_{i=1}^{m}k_i}{m \\cdot n}$\n",
    "\n",
    "\n",
    "\n",
    "\n",
    "<br><br>"
   ]
  },
  {
   "cell_type": "markdown",
   "metadata": {},
   "source": [
    "**b. Poisson: calculate the MLE for $\\lambda \\Rightarrow$**  $Pr(k|\\lambda) = \\frac{\\lambda^k}{k!} e^{-\\lambda}$"
   ]
  },
  {
   "cell_type": "markdown",
   "metadata": {},
   "source": [
    "`First, I'll look at` $L\\big(\\Theta\\big)$ :     \n",
    "$L\\bigg(\\Theta\\bigg) = ln\\bigg(Pr\\big(D|\\Theta\\big)\\bigg) = ln\\bigg( \\prod_{i=1}^{m}\\frac{\\lambda^k_i}{k_i!}e^{-\\lambda} \\bigg) = \\sum_{i=1}^{m} ln\\bigg( \\frac{\\lambda^k_i}{k_i!}e^{-\\lambda} \\bigg) = \\sum_{i=1}^{m} ln\\big( e^{-\\lambda} \\big) + ln\\big( \\lambda^k_i \\big) - ln\\big( k_i! \\big) = \\sum_{i=1}^{m} -\\lambda + k_i ln\\big(\\lambda\\big) - ln\\big(k_i!\\big) = -m\\lambda + ln\\big(\\lambda\\big)\\sum_{i=1}^{m}k_i - \\sum_{i=1}^{m}ln\\big(k_i!\\big)$"
   ]
  },
  {
   "cell_type": "markdown",
   "metadata": {},
   "source": [
    "`Second, I'll calculate the derivative of` $\\frac{dL(\\Theta)}{d\\lambda} = 0$ :  \n",
    "\n",
    "$\\frac{dL(\\Theta)}{d\\lambda} = -m + \\frac{1}{\\lambda} \\sum_{i=0}^{m} k_i $ is equal to zero  \n",
    "\n",
    "$ -m + \\frac{1}{\\lambda} \\sum_{i=0}^{m} k_i  = 0 $  \n",
    "\n",
    "$ \\frac{1}{\\lambda} \\sum_{i=0}^{m} k_i  = m $  \n",
    "\n",
    "$ \\sum_{i=0}^{m} k_i  = m \\cdot \\lambda $\n",
    "\n",
    "$ \\frac{\\sum_{i=0}^{m}k_i}{m}   = \\lambda $\n",
    "\n",
    "`The MLE for 𝜆 is` $ \\frac{\\sum_{i=0}^{m}k_i}{m}$ \n",
    "\n",
    "<br><br>"
   ]
  },
  {
   "cell_type": "markdown",
   "metadata": {},
   "source": [
    "**c. Normal: calculate the MLE for both $\\mu$ and $\\sigma^2 \\Rightarrow$** $Pr(x|\\mu,\\sigma^2) = \\frac{1}{\\sqrt{2\\pi\\sigma^2}} e^{-\\frac{{(x-\\mu)}^2}{2\\sigma^2}} $"
   ]
  },
  {
   "cell_type": "markdown",
   "metadata": {},
   "source": [
    "`First, I'll look at` $L\\big(\\Theta\\big)$ :     \n",
    "$L\\bigg(\\Theta\\bigg) = ln\\bigg(Pr\\big(D|\\Theta\\big)\\bigg) = ln\\bigg( \\prod_{i=0}^{m} \\frac{1}{\\sqrt{2\\pi\\sigma^2}} e^{-\\frac{{(x_i-\\mu)}^2}{2\\sigma^2}} \\bigg) = -m ln\\big( \\sigma\\sqrt{2\\pi} \\big) - \\sum_{i=1}^{m} \\frac{{(x_i-\\mu)}^2}{2\\sigma^2} $ "
   ]
  },
  {
   "cell_type": "markdown",
   "metadata": {},
   "source": [
    "`Second, I'll calculate the derivative of` $\\frac{dL(\\Theta)}{d\\mu} = 0 $\n",
    "\n",
    "$\\frac{dL(\\Theta)}{d\\mu} = 0 - \\sum_{i=1}^{m} \\frac{-2(x_i-\\mu)}{2\\sigma^2} = \\sum_{i=1}^{m} \\frac{(x_i-\\mu)}{\\sigma^2} $ is equal to zero\n",
    "\n",
    "$ \\sum_{i=1}^{m} \\frac{(x_i-\\mu)}{\\sigma^2} = 0 $\n",
    "\n",
    "$ \\sum_{i=1}^{m} (x_i-\\mu) = 0 $\n",
    "\n",
    "$ \\sum_{i=1}^{m} x_i  - m\\mu = 0 $\n",
    "\n",
    "$ \\sum_{i=1}^{m} x_i  = m\\mu $\n",
    "\n",
    "$ \\frac{1}{m} \\sum_{i=1}^{m} x_i  = \\mu $"
   ]
  },
  {
   "cell_type": "markdown",
   "metadata": {},
   "source": [
    "`Third, I'll calculate the derivative of` $\\frac{dL(\\Theta)}{d\\sigma^2} = 0 $\n",
    "\n",
    "$\\frac{dL(\\Theta)}{d\\sigma^2} =  -m \\big( \\frac{\\sqrt{2\\pi}}{\\sigma\\sqrt{2\\pi}} \\big) - \\sum_{i=1}^{m} \\frac{-4\\sigma{(x_i - \\mu)}^2}{4\\sigma^4} = \\frac{-m}{\\sigma} + \\sum_{i=1}^{m} \\frac{{(x_i-\\mu)}^2}{\\sigma^3}$ is equal to zero\n",
    "\n",
    "$ \\frac{-m}{\\sigma} + \\sum_{i=1}^{m} \\frac{{(x_i-\\mu)}^2}{\\sigma^3} = 0 $  \n",
    "\n",
    "$ \\sum_{i=1}^{m} \\frac{{(x_i-\\mu)}^2}{\\sigma^3} = \\frac{m}{\\sigma} $ multiply the entire equation by $\\sigma^3$  \n",
    "\n",
    "$ \\sum_{i=1}^{m} {(x_i-\\mu)}^2 = m \\cdot \\sigma^2 $\n",
    "\n",
    "$ \\frac{1}{m} \\sum_{i=1}^{m} {(x_i-\\mu)}^2 = \\sigma^2 $\n",
    "\n",
    "\n",
    "\n",
    "\n",
    "\n",
    "\n",
    "\n",
    "\n",
    "\n",
    "\n",
    "\n"
   ]
  },
  {
   "cell_type": "markdown",
   "metadata": {},
   "source": [
    "`The MLE for 𝜇 is`  $ \\frac{1}{m} \\sum_{i=1}^{m} x_i$\n",
    "\n",
    "`The MLE for `$𝜎^2$ `is`  $ \\frac{1}{m} \\sum_{i=1}^{m} (x_i-\\mu)^2$"
   ]
  },
  {
   "cell_type": "markdown",
   "metadata": {},
   "source": [
    "<br><br><br>\n",
    "<br><br><br>"
   ]
  },
  {
   "cell_type": "markdown",
   "metadata": {},
   "source": [
    "# Q4\n",
    "\n",
    "Given a 2-dimensional random variable $x \\sim N_2(\\mu,\\Sigma)$\n",
    "\n",
    "$$ Pr(x|\\mu,\\Sigma) = \\frac{1}{{(2\\pi)}^{\\frac{d}{2}} {|\\Sigma|}^{\\frac{d}{2}}} exp\\bigg[ -\\frac{1}{2}{(x-\\mu)}^T \\Sigma^{-1}(x-\\mu) \\bigg] $$  \n",
    "  \n",
    "<br>\n",
    "\n",
    "<center> Where $x = {x_1 \\choose x_2}, \\mu = {\\mu_1 \\choose \\mu_2}, \\Sigma = \n",
    "{\\begin{pmatrix}\n",
    "    \\sigma^2_1 & \\rho\\sigma_1\\sigma_2 \\\\\n",
    "    \\rho\\sigma_1\\sigma_2 & \\sigma^2_2   \n",
    "\\end{pmatrix}\n",
    "}$ </center>\n",
    "\n",
    "<u>Show that:<u>"
   ]
  },
  {
   "attachments": {},
   "cell_type": "markdown",
   "metadata": {},
   "source": [
    "**a. The marginal distributions are normal, such that** $\\enspace x_i \\sim N\\big( \\mu_i,\\sigma^2_i \\big), i=1,2$"
   ]
  },
  {
   "cell_type": "markdown",
   "metadata": {},
   "source": [
    "I'll define: $z_i = \\frac{x_i-\\mu_i}{\\sigma_i} \\leftrightarrow dx_i = \\sigma_i dz_i $\n",
    "\n",
    "<br>\n",
    "$ f_{X1}(x_1) = $  \n",
    "\n",
    "$ = \\int_{-\\infty}^{\\infty}dx_2\\frac{1}{2\\pi\\sigma_1\\sigma_2\\sqrt{1-\\rho^2}}\n",
    "exp \n",
    "    \\Bigg[\n",
    "    -\\frac{1}{2}\\frac{1}{1-\\rho^2} \n",
    "    \\big[\n",
    "    (\\frac{x_1-\\mu_1}{\\sigma_1})^2 + (\\frac{x_2-\\mu_2}{\\sigma_2})^2 - 2\\rho \\frac{x_1-\\mu_1}{\\sigma_1}\\frac{x_2-\\mu_2}{\\sigma_2}\n",
    "    \\big]\n",
    "    \\Bigg]\n",
    "= $  \n",
    "\n",
    "\n",
    "$ = \\frac{1}{2\\pi\\sigma_1\\sigma_2\\sqrt{1-\\rho^2}} \\int_{-\\infty}^{\\infty} \\sigma_2 dz_2 \\\n",
    "exp \n",
    "\\Bigg[\n",
    "-\\frac{1}{2}\\frac{1}{1-\\rho^2} \n",
    "\\big[\n",
    "z_1^2 + z_2^2 - 2\\rho z_1 z_2\n",
    "\\big]\n",
    "\\Bigg] = $  \n",
    "\n",
    "$ = \\frac{1}{2\\pi\\sigma_1\\sqrt{1-\\rho^2}} \\int_{-\\infty}^{\\infty} dz_2 \\\n",
    "exp \n",
    "\\Bigg[\n",
    "-\\frac{1}{2}\\frac{1}{1-\\rho^2} \n",
    "\\big[\n",
    "z_1^2\n",
    "\\big]\n",
    "\\Bigg]\n",
    "exp \n",
    "\\Bigg[\n",
    "-\\frac{1}{2}\\frac{1}{1-\\rho^2} \n",
    "\\big[\n",
    "z_2^2 - 2\\rho z_1 z_2\n",
    "\\big]\n",
    "\\Bigg] = $  \n",
    "\n",
    "$ =\\frac{1}{2\\pi\\sigma_1\\sqrt{1-\\rho^2}}exp \n",
    "\\Bigg[\n",
    "-\\frac{1}{2}\\frac{1}{1-\\rho^2} \n",
    "\\big[\n",
    "z_1^2\n",
    "\\big]\n",
    "\\Bigg] \\times \\int_{-\\infty}^{\\infty} dz_2 \\\n",
    "exp \n",
    "\\Bigg[\n",
    "-\\frac{1}{2}\\frac{1}{1-\\rho^2} \n",
    "\\big[\n",
    "z_2^2 - 2\\rho z_1 z_2 + (\\rho z_1)^2 - (\\rho z_1)^2\n",
    "\\big]\n",
    "\\Bigg] = $  \n",
    "\n",
    "$ =\\frac{1}{2\\pi\\sigma_1\\sqrt{1-\\rho^2}}exp \n",
    "\\Bigg[\n",
    "-\\frac{1}{2}\\frac{1}{1-\\rho^2} \n",
    "\\big[\n",
    "z_1^2\n",
    "\\big]\n",
    "\\Bigg]\n",
    "exp \n",
    "\\Bigg[\n",
    "-\\frac{1}{2}\\frac{1}{1-\\rho^2} \n",
    "\\big[\n",
    "- (\\rho z_1)^2\n",
    "\\big]\n",
    "\\Bigg]\n",
    "\\times \\int_{-\\infty}^{\\infty} dz_2 \\\n",
    "exp \n",
    "\\Bigg[\n",
    "-\\frac{1}{2}\\frac{1}{1-\\rho^2} \n",
    "\\big[\n",
    "z_2^2-\\rho z_1\n",
    "\\big]\n",
    "\\Bigg] = $  \n",
    "\n",
    "$ = \\frac{1}{2\\pi\\sigma_1\\sqrt{1-\\rho^2}} exp (-\\frac{1}{2} z_1^2)\\times \\sqrt{\\pi \\times 2(1-\\rho^2)} = \\frac{1}{\\sqrt{2\\pi}\\sigma_1} exp (-\\frac{1}{2} z_1^2) = \\frac{1}{\\sqrt{2\\pi}\\sigma_1} exp (-\\frac{1}{2} (\\frac{x_1-\\mu_1}{\\sigma_1})^2) \\sim N(\\mu_1,\\sigma_1)$ "
   ]
  },
  {
   "cell_type": "markdown",
   "metadata": {},
   "source": [
    "**b. The conditinal distribution is normal, such that** $\\enspace x_1|x_2 \\sim N\\bigg( \\mu_1 + \\frac{\\rho\\sigma_1(x_1-\\mu_2)}{\\sigma^2}, \\sigma^2_1(1-\\rho^2) \\bigg)$"
   ]
  },
  {
   "cell_type": "markdown",
   "metadata": {},
   "source": [
    "$f_{X_1|X_2=x_2} = \\frac{f(x_1,x_2)}{f_{X_2}(x_2)}$\n",
    "$= \\frac{\\frac{1}{2\\pi\\sigma_1\\sigma_1\\sqrt{1-\\rho^2}}\n",
    "exp\n",
    "    \\Bigg[\n",
    "    -\\frac{1}{2}\\frac{1}{1-\\rho^2} \n",
    "    \\big[\n",
    "    z_1^2 + z_2^2 - 2\\rho z_1 z_2\n",
    "    \\big]\n",
    "    \\Bigg]}{\\frac{1}{\\sqrt{2\\pi}\\sigma_2}\n",
    "exp (-\\frac{1}{2} z_2^2)}$\n",
    "\n",
    "$= \\frac{1}{\\sqrt{2\\pi}\\sigma_1\\sqrt{1-\\rho^2}}\n",
    "exp\n",
    "    \\Bigg[\n",
    "    -\\frac{1}{2}\\frac{1}{1-\\rho^2} \n",
    "    \\big[\n",
    "    z_1^2 + z_2^2 - 2\\rho z_1 z_2\n",
    "    \\big] -(-\\frac{1}{2} z_2^2)\n",
    "    \\Bigg]$\n",
    "    \n",
    "$= \\frac{1}{\\sqrt{2\\pi}\\sigma_1\\sqrt{1-\\rho^2}}\n",
    "exp\n",
    "    \\Bigg[ (-\\frac{1}{2}) [\n",
    "    \\frac{1}{1-\\rho^2} \n",
    "    \\big[\n",
    "    z_1^2 + z_2^2 - 2\\rho z_1 z_2\n",
    "    \\big] -z_2^2]\n",
    "    \\Bigg]$    \n",
    "\n",
    "$= \\frac{1}{\\sqrt{2\\pi}\\sigma_1\\sqrt{1-\\rho^2}}\n",
    "exp\n",
    "    \\Bigg[ (-\\frac{1}{2}) \n",
    "    \\big[\n",
    "    \\frac{1}{1-\\rho^2} z_2^2 + \\frac{1}{1-\\rho^2} z_1^2 - \\frac{1}{1-\\rho^2} 2\\rho z_1 z_2\n",
    "    -z_2^2\n",
    "    \\big] \n",
    "    \\Bigg]$    \n",
    "    \n",
    "$= \\frac{1}{\\sqrt{2\\pi}\\sigma_1\\sqrt{1-\\rho^2}}\n",
    "exp\n",
    "    \\Bigg[ -\\frac{1}{2}\n",
    "    \\big[\n",
    "    [\\frac{(\\rho z_2) }{\\sqrt{1-\\rho^2}}]^2  + (\\frac{z_1}{\\sqrt{1-\\rho^2}})^2  \n",
    "    - 2 \\frac{(\\rho z_2) }{\\sqrt{1-\\rho^2}} (\\frac{z_1}{\\sqrt{1-\\rho^2}})\n",
    "    \\big]\n",
    "    \\Bigg]$    \n",
    "    \n",
    "$= \\frac{1}{\\sqrt{2\\pi}\\sigma_1\\sqrt{1-\\rho^2}}\n",
    "exp\n",
    "    \\Bigg[ -\\frac{1}{2}\n",
    "    [(\\frac{\\rho z_2}{\\sqrt{1-\\rho^2}})  - (\\frac{z_1}{\\sqrt{1-\\rho^2}})  ]^2\n",
    "    \\Bigg]$        \n",
    "\n",
    "$= \\frac{1}{\\sqrt{2\\pi}\\sigma_1\\sqrt{1-\\rho^2}}\n",
    "exp\n",
    "    \\Bigg[ -\\frac{1}{2}\n",
    "    (\\frac{\\rho z_2-z_1}{\\sqrt{1-\\rho^2}})^2\n",
    "    \\Bigg]$\n",
    "$= \\frac{1}{\\sqrt{2\\pi}\\sigma_1\\sqrt{1-\\rho^2}}\n",
    "exp\n",
    "    \\Bigg[ -\\frac{1}{2}\n",
    "    (\\frac{\\rho \\frac{x_2-\\mu_2}{\\sigma_2} -\\frac{x_1-\\mu_1}{\\sigma_1} }{\\sqrt{1-\\rho^2}})^2\n",
    "    \\Bigg]$       \n",
    "$= \\frac{1}{\\sqrt{2\\pi}\\sigma_1\\sqrt{1-\\rho^2}}\n",
    "exp\n",
    "    \\Bigg[ -\\frac{1}{2}\n",
    "    (\\frac{-x_1+(\\mu_1+\\rho \\sigma_1 \\frac{x_2-\\mu_2}{\\sigma_2}) }{\\sigma_1 \\sqrt{1-\\rho^2}})^2\n",
    "    \\Bigg]$     \n",
    "$= \\frac{1}{\\sqrt{2\\pi}\\sigma_1\\sqrt{1-\\rho^2}}\n",
    "exp\n",
    "    \\Bigg[ -\\frac{1}{2}\n",
    "    (\\frac{x_1-(\\mu_1+\\rho \\sigma_1 \\frac{x_2-\\mu_2}{\\sigma_2}) }{\\sigma_1 \\sqrt{1-\\rho^2}})^2\n",
    "    \\Bigg]$         \n",
    "$= \\frac{1}{\\sqrt{2\\pi}(\\sigma_1\\sqrt{1-\\rho^2})}\n",
    "exp\n",
    "    \\Bigg[ -\\frac{1}{2}\n",
    "    (\\frac{x_1-(\\mu_1+\\rho \\sigma_1 \\frac{x_2-\\mu_2}{\\sigma_2}) }{\\sigma_1 \\sqrt{1-\\rho^2}})^2\n",
    "    \\Bigg] \\sim N(\\mu_1+\\rho \\sigma_1 \\frac{x_2-\\mu_2}{\\sigma_2},\\sigma_1 \\sqrt{1-\\rho^2})$"
   ]
  },
  {
   "cell_type": "markdown",
   "metadata": {},
   "source": [
    "<br><br><br>\n",
    "<br><br><br>"
   ]
  },
  {
   "cell_type": "markdown",
   "metadata": {},
   "source": [
    "# Q5\n",
    "\n",
    "**Pearson's Correlation Coefficient is defined ad follows:**\n",
    "$$ \\rho = \\frac{cov\\big(X,Y\\big)}{\\sigma_x \\sigma_y} = \\frac{E\\bigg[ \\big(x-\\mu_x\\big)\\big(y-\\mu_y\\big) \\bigg]}  {  \\sqrt{E\\bigg[ {\\big(x-\\mu_x\\big)}^2 \\bigg]}  \\sqrt{E\\bigg[ {\\big(y-\\mu_y\\big)}^2\\bigg]} } $$\n",
    "\n",
    "**Show that $ \\enspace -1 \\leq \\rho \\leq 1 \\enspace$ (hint: use Cauchy-Schwarz inequality)**"
   ]
  },
  {
   "cell_type": "markdown",
   "metadata": {},
   "source": [
    "Variance is non-negative by definition $\\enspace\\enspace\\Rightarrow\\enspace\\enspace 0 \\leq denominator$ \n",
    "\n",
    "<br>\n",
    "\n",
    "If X & Y are independent, meaning E[XY] == E[X]E[Y]:\n",
    "\n",
    "$$Cov(X,Y) = E[(X-\\overline{X})(Y-\\overline{Y})] = E[XY] - E[X]E[Y] = E[X]E[Y] - E[X]E[Y] = 0$$\n",
    "\n",
    "So zero could be a lower bound.\n",
    "\n",
    "\n",
    "<br><br>\n",
    "\n",
    "For upper bound I'll use Cauchy-Schwarz inequality:  \n",
    "\n",
    "$${\\bigg|\\enspace Cov\\big(X,Y\\big) \\enspace\\bigg|}^2 \\leq Var\\big(X\\big) Var\\big(Y\\big)$$  \n",
    "\n",
    "$${\\bigg|\\enspace Cov\\big(X,Y\\big) \\enspace\\bigg|} \\leq \\sqrt{Var\\big(X\\big) Var\\big(Y\\big)}$$\n",
    "\n",
    "Now I'll plug it in to the pearson's definition:  \n",
    "$$\\big|\\rho\\big| = \\Bigg| \\frac{Cov\\big(X,Y\\big)}{\\sqrt{Var\\big(X\\big) Var\\big(Y\\big)}} \\Bigg| \\leq \\frac{\\sqrt{Var\\big(X\\big) Var\\big(Y\\big)}}{ \\sqrt{Var\\big(X\\big) Var\\big(Y\\big)} } = 1 \\enspace\\enspace\\enspace\\Rightarrow\\enspace\\enspace   \\big|\\rho\\big| \\leq 1 $$\n",
    "\n",
    "Thus the absolute value of the correlation is bounded below by 0 and above by 1, therefore: $$-1\\leq\\rho\\leq1$$"
   ]
  },
  {
   "cell_type": "markdown",
   "metadata": {},
   "source": [
    "<br><br><br>\n",
    "<br><br><br>"
   ]
  },
  {
   "cell_type": "markdown",
   "metadata": {},
   "source": [
    "Thanks for reading :) "
   ]
  }
 ],
 "metadata": {
  "kernelspec": {
   "display_name": "Python 3",
   "language": "python",
   "name": "python3"
  },
  "language_info": {
   "codemirror_mode": {
    "name": "ipython",
    "version": 3
   },
   "file_extension": ".py",
   "mimetype": "text/x-python",
   "name": "python",
   "nbconvert_exporter": "python",
   "pygments_lexer": "ipython3",
   "version": "3.7.7"
  }
 },
 "nbformat": 4,
 "nbformat_minor": 4
}
