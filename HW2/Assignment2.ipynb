{
 "cells": [
  {
   "cell_type": "markdown",
   "metadata": {},
   "source": [
    "# Exercise 2 – Information Theory\n",
    "by Millis Sahar, ID 300420379"
   ]
  },
  {
   "cell_type": "markdown",
   "metadata": {},
   "source": [
    "# Q1\n",
    "\n",
    "**a. Mutual Information - Show that:** $I\\big(X;Y\\big) = H\\big(X\\big) - H\\big(X|Y\\big) = H\\big(Y\\big) - H\\big(Y|X\\big)$\n",
    "\n",
    "Prove $I\\big(X;Y\\big) = H\\big(X\\big) - H\\big(X|Y\\big)$ :\n",
    "\n",
    "$ I(x;y) = $ \n",
    "\n",
    "$ \\sum_x \\sum_y p(x,y) log\\bigg(\\frac{p(x,y)}{p(x)p(y)}\\bigg) = $ \n",
    "\n",
    "\n",
    "$ = \\sum_x \\sum_y p(x,y) log\\bigg(\\frac{p(y)p(x|y)}{p(x)p(y)}\\bigg) = $\n",
    "\n",
    "$ = \\sum_x \\sum_y p(x,y) log\\bigg(\\frac{p(x|y)}{p(x)}\\bigg)  = $\n",
    "\n",
    "$ = \\sum_x \\sum_y p(x,y) \\bigg( logp(x|y) -logp(x) \\bigg) = $\n",
    "\n",
    "$ = \\sum_x \\sum_y p(x,y) logp(x|y) - \\sum_x \\sum_y p(x,y) logp(x) = $\n",
    "\n",
    "$ = - H\\big(X|Y\\big) - \\sum_x \\bigg( \\sum_y p(x,y) logp(x) \\bigg) = $\n",
    "\n",
    "$ =  - H\\big(X|Y\\big) - \\sum_x  p(x,y) logp(x)  = $\n",
    " \n",
    "\n",
    "$ = - H\\big(X|Y\\big) + H\\big(x \\big) = $ \n",
    "\n",
    "$ = H\\big(X\\big) - H\\big(X|Y\\big) $\n",
    "\n",
    "<br><br><br><br>\n",
    "\n",
    "Prove $I\\big(X;Y\\big) = H\\big(Y\\big) - H\\big(Y|X\\big)$ : (almost the same way)\n",
    "\n",
    "$ I(x;y) = $ \n",
    "\n",
    "$ \\sum_x \\sum_y p(x,y) log\\bigg(\\frac{p(x,y)}{p(x)p(y)}\\bigg) = $ \n",
    "\n",
    "$ = \\sum_x \\sum_y p(x,y) log\\bigg(\\frac{p(x)p(y|x)}{p(x)p(y)}\\bigg) = $\n",
    "\n",
    "$ = \\sum_x \\sum_y p(x,y) log\\bigg(\\frac{p(y|x)}{p(y)}\\bigg)  = $\n",
    "\n",
    "$ = \\sum_x \\sum_y p(x,y) \\bigg( logp(y|x) -logp(y) \\bigg) = $\n",
    "\n",
    "$ = \\sum_x \\sum_y p(x,y) logp(y|x) - \\sum_x \\sum_y p(x,y) logp(y) = $\n",
    "\n",
    "$ = - H\\big(Y|X\\big) - \\sum_y \\bigg( \\sum_x p(x,y) logp(y) \\bigg) = $\n",
    "\n",
    "$ =  - H\\big(Y|X\\big) - \\sum_y p(x,y) logp(y)  = $\n",
    " \n",
    "$ = - H\\big(Y|X\\big) + H\\big(Y \\big) = $ \n",
    "\n",
    "$ = H\\big(Y\\big) - H\\big(Y|X\\big) $\n",
    "\n",
    "<br><br><br><br>"
   ]
  },
  {
   "cell_type": "markdown",
   "metadata": {},
   "source": [
    "**b. Mutual information - Conditional vs unconditional**"
   ]
  },
  {
   "cell_type": "markdown",
   "metadata": {},
   "source": [
    "$\\quad\\quad$ **i. Give an example for three random variables such that:** $I\\big(X;Y|Z\\big) < I\\big(X;Y\\big)$\n",
    "\n",
    "$\n",
    "p(Z) = \n",
    "\\begin{cases} \n",
    "      \\text{0 with probability of 0.8} \\\\\n",
    "      \\text{1 with probability of 0.2} \\\\  \n",
    "\\end{cases}\n",
    "$\n",
    "\n",
    "$ A = X,Y \\sim Uniform(0,1),Uniform(0,1) $      \n",
    "$ B = X,Y \\sim Norm(\\mu_x,\\sigma_x^2),Norm(\\mu_y,\\sigma_y^2)  $\n",
    "\n",
    "$\n",
    "X,Y \\sim \n",
    "\\begin{cases} \n",
    "      \\text{A when Z=0} \\\\\n",
    "      \\text{B when Z=1} \\\\  \n",
    "\\end{cases}\n",
    "$\n",
    "\n",
    "$ I(X;Y) =  {0.5I(A)}_{\\text{going to zero}} + 0.5I(B) \\rightarrow 0.5I(B) $  \n",
    "$ I(X;Y|Z) =  {0.8I(A)}_{\\text{going to zero}} + 0.2I(B) \\rightarrow 0.2I(B) $  \n",
    "$\\Rightarrow$ Then: $0.5I(B)>0.2I(B)$\n",
    "\n",
    "Therefore: $I(X;Y)>I(X;Y|Z)$\n",
    "\n"
   ]
  },
  {
   "cell_type": "markdown",
   "metadata": {},
   "source": [
    "$\\quad\\quad$ **ii. Give an example for three random variables such that:** $I\\big(X;Y|Z\\big) > I\\big(X;Y\\big)$\n",
    "\n",
    "it's basically the same example, with a different probability...  \n",
    "\n",
    "$\n",
    "p(Z) = \n",
    "\\begin{cases} \n",
    "      \\text{0 with probability of 0.4} \\\\\n",
    "      \\text{1 with probability of 0.6} \\\\  \n",
    "\\end{cases}\n",
    "$\n",
    "\n",
    "$ A = X,Y \\sim Uniform(0,1),Uniform(0,1) $      \n",
    "$ B = X,Y \\sim Norm(\\mu_x,\\sigma_x^2),Norm(\\mu_y,\\sigma_y^2)  $\n",
    "\n",
    "$\n",
    "X,Y \\sim \n",
    "\\begin{cases} \n",
    "      \\text{A when Z=0} \\\\\n",
    "      \\text{B when Z=1} \\\\  \n",
    "\\end{cases}\n",
    "$\n",
    "\n",
    "$ I(X;Y) =  {0.5I(A)}_{\\text{going to zero}} + 0.5I(B) \\rightarrow 0.5I(B) $  \n",
    "$ I(X;Y|Z) =  {0.4I(A)}_{\\text{going to zero}} + 0.6I(B) \\rightarrow 0.6I(B) $  \n",
    "$\\Rightarrow$ Then: $0.5I(B)<0.6I(B)$\n",
    "\n",
    "Therefore: $I(X;Y)<I(X;Y|Z)$"
   ]
  },
  {
   "cell_type": "markdown",
   "metadata": {},
   "source": [
    "# Q2\n",
    "\n",
    "**Let** $X,Y,Z$ **three random variables who form a Markov Chain** $X \\rightarrow Y \\rightarrow Z$   \n",
    "**Show that** $X,Y,Z$ **are conditionally independent given** $Z$, **i.e** $p\\big(x,z|y\\big) = p\\big(x|y\\big)p\\big(z|y\\big)$\n",
    "\n",
    "I'll show $p(x,z|y) = p(z|y)p(x|y)$, meaning X,Y are conditionally independent given Z.\n",
    "\n",
    "<br>\n",
    "\n",
    "Using bayes: $ p(x,z|y) = \\frac{p(x,y,z)}{p(y)}$\n",
    "\n",
    "and given the Markov Chain: $X \\rightarrow Y \\rightarrow Z \\Rightarrow \\enspace p\\big(x,y,z\\big) = p(x)p(y|x)p(z|y) $\n",
    "\n",
    "$ p(x,z|y) =  \\frac{p(x,y,z)}{p(y)} = \\frac{p(x)p(y|x)p(z|y)}{p(y)} = p(z|y)p(x|y)$\n",
    "\n",
    "<br><br><br><br>\n",
    "\n",
    "<!-- $\\Rightarrow  p(x,z | y)p(y) = p(z|y)\\big(\\frac{p(x|y)p(x)}{p(x)} \\big) \\Rightarrow p(x,z|y) = p(z|y)p(x|y)$ -->"
   ]
  },
  {
   "cell_type": "markdown",
   "metadata": {},
   "source": [
    "# Q3\n",
    "**Let p(x,y) be given by:**\n",
    "\n",
    "| Pr(x,y) | $x_1$ | $x_2$|     \n",
    "| :---: | :---: | :---: |\n",
    "| $y_1$ | 1/3 | 1/3 |     \n",
    "| $y_2$ | 0 | 1/3 |   \n",
    "\n",
    "**Find:**  \n",
    "\n",
    "a. $H\\big(X\\big),H\\big(Y\\big)$  \n",
    "b. $H\\big(X|Y\\big),H\\big(Y|X\\big)$  \n",
    "c. $H\\big(X,Y\\big)$  \n",
    "d. $H\\big(X\\big)-H\\big(Y\\big)$  \n",
    "e. $H\\big(X\\big),H\\big(Y\\big)$  \n",
    "f. $I\\big(X;Y\\big)$  \n",
    "g. Draw a Venn diagram that illustrates the quantities stated in the above bullets (\"a\" to \"f\")  \n"
   ]
  },
  {
   "attachments": {},
   "cell_type": "markdown",
   "metadata": {},
   "source": [
    "**Answers:**\n",
    "\n",
    "a.   \n",
    "$H\\big(X\\big) = H(\\frac{1}{3},\\frac{2}{3}) = -\\frac{1}{3}log\\frac{1}{3} - \\frac{2}{3}log\\frac{2}{3} = 0.92$  \n",
    "$H\\big(Y\\big) = H(\\frac{1}{3},\\frac{2}{3}) = -\\frac{1}{3}log\\frac{1}{3} - \\frac{2}{3}log\\frac{2}{3} = 0.92$\n",
    "\n",
    "b.   \n",
    "$H\\big(X|Y\\big) = -\\sum_x\\sum_y p(x,y)log\\big(p(x|y)\\big) = -\\frac{1}{3}log\\frac{1}{2}-\\frac{1}{3}log\\frac{1}{2}-\\frac{1}{3}log(1) = -\\frac{2}{3}log\\frac{1}{2} = -\\frac{2}{3}\\cdot(-1) = \\frac{2}{3} = 0.67 $  \n",
    "$H\\big(Y|X\\big) = -\\sum_x\\sum_y p(x,y)log\\big(p(y|x)\\big) = -\\frac{1}{3}log\\frac{1}{2}-\\frac{1}{3}log\\frac{1}{2}-\\frac{1}{3}log(1) = -\\frac{2}{3}log\\frac{1}{2} = -\\frac{2}{3}\\cdot(-1) = \\frac{2}{3} = 0.67 $   \n",
    "\n",
    "c.   \n",
    "$ H\\big(X,Y\\big) = H\\big(X) + H\\big(Y|X\\big) = 0.92 + 0.67 = 1.59$  \n",
    "\n",
    "d.   \n",
    "$H\\big(X\\big)-H\\big(Y\\big) = 0.92 - 0.92 = 0$  \n",
    "\n",
    "e. Duplication\n",
    "\n",
    "f.   \n",
    "$I\\big(X;Y\\big) = H\\big(X\\big) - H\\big(X|Y\\big) = 0.92 - 0.67 = 0.25$"
   ]
  },
  {
   "attachments": {
    "image.png": {
     "image/png": "[encoded data removed]"
    }
   },
   "cell_type": "markdown",
   "metadata": {},
   "source": [
    "g.  \n",
    "![image.png](attachment:image.png)\n"
   ]
  },
  {
   "cell_type": "markdown",
   "metadata": {},
   "source": [
    "<br><br><br>\n",
    "<br><br><br>"
   ]
  },
  {
   "cell_type": "markdown",
   "metadata": {},
   "source": [
    "# Q4\n",
    "\n",
    "Grouping rule for Entropy\n",
    "\n",
    "Let $p = (p_1,p_2,...,p_m)$ be a probability distribution on $m$ elements $\\big(i.e. 0 \\leq p_i \\big)$ and $\\sum_{i}p_i = 1$ .  \n",
    "Define a new distribution on $q$ on $m-1$ elements such that the distribution on the first $m-2$ elements is identical, and the probability of last element in $q$ is the sum of the last two probabilitis in $p$ , i.e.  \n",
    "$$q_1=p_1 , \\enspace q_2=p_2 , \\enspace...\\enspace , \\enspace q_{m_2}=p_{m-2}, \\enspace q_{m-1}=p_{m-1}+p_m$$\n",
    "\n",
    "<br>\n",
    "\n",
    "Show that: $H\\big(p\\big) = H\\big(q\\big) + \\big(P_{m-1} + p_m\\big) H\\big(v\\big)$  \n",
    "where $v = \\Bigg( \\frac{p_{m-1}}{p_{m-1}+p_m},\\frac{p_m}{p_{m-1}+p_m}  \\Bigg)$ is a binary probability distribution."
   ]
  },
  {
   "cell_type": "markdown",
   "metadata": {},
   "source": [
    "Using entropy definition:\n",
    "$H\\big(p\\big) = -\\sum_{i=1}^{m}p_ilog\\big(p_i\\big) = -\\sum_{i=1}^{m-1}p_ilog\\big(p_i\\big) - p_mlog\\big(p_m\\big) = -\\sum_{i=1}^{m-2}p_ilog\\big(p_i\\big) - p_{m-1}log\\big(p_{m-1}\\big) - p_mlog\\big(p_m\\big)$  \n",
    "And $q_1=p_1 , \\enspace q_2=p_2 , \\enspace...\\enspace , \\enspace q_{m_2}=p_{m-2}, \\enspace q_{m-1}=p_{m-1}+p_m$\n",
    "\n",
    "$Therefore: $  \n",
    "$ H\\big(p\\big) = $  \n",
    "$ = -\\sum_{i=1}^{m-2}p_ilog\\big(p_i\\big) - p_{m-1}log\\big(p_{m-1}\\big) - p_mlog\\big(p_m\\big) = $  \n",
    "$ = -\\sum_{i=1}^{m-2}p_ilog\\big(p_i\\big) - p_{m-1}log\\big(p_{m-1}\\big) - p_mlog\\big(p_m\\big) + 0 = $  \n",
    "$ = -\\sum_{i=1}^{m-2}p_ilog\\big(p_i\\big) - p_{m-1}log\\big(p_{m-1}\\big) - p_mlog\\big(p_m\\big) + \\bigg(q_{m-1}log\\big(q_{m-1}\\big) - q_{m-1}log\\big(q_{m-1}\\big) \\bigg) = $\n",
    "$ = -\\sum_{i=1}^{m-2}p_ilog\\big(p_i\\big) + q_{m-1}log\\big(q_{m-1}\\big) - p_{m-1}log\\big(p_{m-1}\\big) - p_mlog\\big(p_m\\big) - q_{m-1}log\\big(q_{m-1}\\big) = $\n",
    "$ = \\Bigg( -\\sum_{i=1}^{m-2}p_ilog\\big(p_i\\big) - q_{m-1}log\\big(q_{m-1}\\big) \\Bigg) - p_{m-1}log\\big(p_{m-1}\\big) - p_mlog\\big(p_m\\big) + q_{m-1}log\\big(q_{m-1}\\big) = $\n",
    "$ = H\\big(q\\big) - p_{m-1}log\\big(p_{m-1}\\big) - p_mlog\\big(p_m\\big) + q_{m-1}log\\big(q_{m-1}\\big) = $  \n",
    "$ = H\\big(q\\big) - p_{m-1}log\\big(p_{m-1}\\big) - p_mlog\\big(p_m\\big) + \\bigg(p_{m-1}+p_m\\bigg)log\\bigg(p_{m-1}+p_m\\bigg) = $  \n",
    "$ = H\\big(q\\big) - p_{m-1}log\\big(p_{m-1}\\big) - p_mlog\\big(p_m\\big) + p_{m-1}log\\big(p_{m-1}+p_m\\big)+p_mlog\\big(p_{m-1}+p_m\\big) = $  \n",
    "$ = H\\big(q\\big) + \\Bigg(p_{m-1}log\\big(p_{m-1}+p_m\\big) - p_{m-1}log\\big(p_{m-1}\\big)\\bigg) + \\Bigg(p_mlog\\big(p_{m-1}+p_m\\big) - p_mlog\\big(p_m\\big) \\Bigg) = $  \n",
    "$ = H\\big(q\\big) + \\Bigg(p_{m-1}log\\big(p_{m-1}+p_m\\big) - p_{m-1}log\\big(p_{m-1}\\big)\\bigg) + \\Bigg(p_mlog\\big(p_{m-1}+p_m\\big) - p_mlog\\big(p_m\\big) \\Bigg) = $  \n",
    "$ = H\\big(q\\big) + p_{m-1}log\\bigg(\\frac{p_{m-1}+p_m}{p_{m-1}}\\bigg) + p_mlog\\big(\\frac{p_{m-1}+p_m}{p_m}\\big) = $   \n",
    "$ = H\\big(q\\big) - p_{m-1}log\\bigg(\\frac{p_{m-1}}{p_{m-1}+p_m}\\bigg) - p_mlog\\big(\\frac{p_m}{p_{m-1}+p_m}\\big) = $   \n",
    "$ = H\\big(q\\big) - \\frac{p_{m-1}}{1}log\\bigg(\\frac{p_{m-1}}{p_{m-1}+p_m}\\bigg) - \\frac{p_mlog}{1}\\big(\\frac{p_m}{p_{m-1}+p_m}\\big) = $   \n",
    "$ = H\\big(q\\big) - (p_{m-1}+p_m)\\frac{p_{m-1}}{p_{m-1}+p_m}log\\bigg(\\frac{p_{m-1}}{p_{m-1}+p_m}\\bigg) - (p_{m-1}+p_m)\\frac{p_m}{p_{m-1}+p_m}log\\big(\\frac{p_m}{p_{m-1}+p_m}\\big) = $   \n",
    "$ = H\\big(q\\big) - (p_{m-1}+p_m) \\Bigg(\\frac{p_{m-1}}{p_{m-1}+p_m}log\\bigg(\\frac{p_{m-1}}{p_{m-1}+p_m}\\bigg) - \\frac{p_m}{p_{m-1}+p_m}log\\big(\\frac{p_m}{p_{m-1}+p_m}\\big) \\Bigg) = $   \n",
    "$ = H\\big(q\\big) - (p_{m-1}+p_m) \\Big(-H\\big(V\\big)\\Big) = $  \n",
    "$ = H\\big(q\\big) + (p_{m-1}+p_m)\\cdot H\\big(V\\big) $  \n",
    "\n",
    "\n",
    "\n",
    "\n",
    "\n",
    "\n",
    "\n",
    "<br><br><br>\n",
    "<br><br><br>\n",
    "<br><br><br>\n"
   ]
  },
  {
   "cell_type": "markdown",
   "metadata": {},
   "source": [
    "# Q5\n",
    "**In general, Relative Entropy is not symmetric, namely** $D\\big(p||q\\big) \\neq D\\big(q||p\\big)$ .  \n",
    "**Give an example for two not identical distributions,** $p\\neq q$ **, such that** $D\\big(p||q\\big) = D\\big(q||p\\big)$ ."
   ]
  },
  {
   "cell_type": "markdown",
   "metadata": {},
   "source": [
    "**I'll define 2 different(!) distributions P,Q:**\n",
    "\n",
    "|  | x=0 | x=1|     \n",
    "| :---: | :---: | :---: |\n",
    "| p(x) | 0.2 | 0.8 |     \n",
    "| q(x) | 0.8 | 0.2 |   \n",
    "\n",
    "Therefore:  \n",
    "\n",
    "$ D\\big( p||q \\big) = \\sum_xp(x)log(\\frac{p(x)}{q(x)}) = p(x=0)log(\\frac{p(x=0)}{q(x=0)}) + p(x=1)log(\\frac{p(x=1)}{q(x=1)}) = 0.2log(\\frac{0.2}{0.8}) + 0.8log(\\frac{0.8}{0.2}) = 0.2 \\cdot(-2) + 0.8\\cdot(2) = -0.4 + 1.6 = 1.2 $  \n",
    "\n",
    "$ D\\big( q||p \\big) = \\sum_xq(x)log(\\frac{q(x)}{p(x)}) = q(x=0)log(\\frac{q(x=0)}{p(x=0)}) + q(x=1)log(\\frac{q(x=1)}{p(x=1)}) = 0.8log(\\frac{0.8}{0.2}) + 0.2log(\\frac{0.2}{0.8}) =  0.8\\cdot(2) + 0.2 \\cdot(-2)  = 1.6 - 0.4 = 1.2 $\n",
    "\n",
    "$\\Rightarrow D\\big( p||q \\big) = D\\big( q||p \\big)$\n",
    "\n",
    "\n",
    "<br><br><br>\n",
    "<br><br><br>"
   ]
  },
  {
   "cell_type": "markdown",
   "metadata": {},
   "source": [
    "# Q6\n",
    "\n",
    "**Relative Entropy** $D\\big(p||q\\big)$ **and chi-square** $\\big(\\chi^2\\big)$  \n",
    "\n",
    "\n",
    "<br>\n",
    "\n",
    "**Show that the $\\chi^2$ statistics  $\\chi^2 = \\sum_x \\frac{  {\\bigg( p\\big(x\\big) - q\\big(x\\big) \\bigg)}^2 }{q\\big(x\\big)}$ is (twice) the first term is the Taylor series expansion of $D\\big(p||q\\big)$ around $q$ .**\n",
    "\n",
    "<br>\n",
    "\n",
    "**Thus, $D\\big(p||q\\big) = \\frac{1}{2}\\chi^2 + ...$ namely chi-square is a first order approximation of the relative Entropy.**  \n",
    "\n",
    "<br>\n",
    "\n",
    "**<u>Hint:</u> Write $\\frac{p}{q} = 1+ \\frac{p-q}{q}$ and expand the $log(\\cdot)$ .**"
   ]
  },
  {
   "cell_type": "markdown",
   "metadata": {},
   "source": [
    "<br><br>\n",
    "<u>Answer:</u>\n",
    "\n",
    "\n",
    "$ D(p||q) = $\n",
    "\n",
    "$ = \\sum_x{p\\cdot log(1+\\frac{p-q}{q})} = $ \n",
    "\n",
    "$ = \\sum_x{p\\cdot log\\big( 1+\\frac{p-q}{q} \\big)}  \\cong $\n",
    "\n",
    "$ \\cong \\sum_x p \\cdot \\bigg(  log\\big(1+\\frac{p-q}{q}\\big)+ \\frac{\\frac{p}{q^2}}{1+\\frac{p-q}{q}}{(p-q)}^1     + 0.5\\frac{1}{q^2}{(p-q)}^2 \\bigg) = $\n",
    "\n",
    "$ = \\sum_x p \\cdot \\bigg( 0 + \\frac{\\frac{p}{q^2}}{1+\\frac{p-q}{q}}{(p-q)}     + 0.5\\frac{1}{q^2}{(p-q)}^2 \\bigg) \\bigg|_{p=q}= $\n",
    "\n",
    "$ =  \\sum_x \\bigg( q\\cdot \\frac{\\frac{q}{q^2}}{1+\\frac{q-q}{q}}{(p-q)} + q\\cdot 0.5\\frac{1}{q^2}{(p-q)}^2 \\bigg) = $\n",
    "\n",
    "$ =  \\sum_x \\bigg( \\frac{\\frac{q^2}{q^2}}{1+0}{(p-q)} + 0.5\\frac{q}{q^2}{(p-q)}^2 \\bigg) = $\n",
    "\n",
    "$ =  \\sum_x \\bigg( {(p-q)} + 0.5\\frac{{(p-q)}^2}{q} \\bigg) = $\n",
    "\n",
    "$ =  \\sum_x {(p-q)} + 0.5\\sum_x \\frac{{(p-q)}^2}{q} = $\n",
    "\n",
    "$ =  \\sum_x {(p-q)} + 0.5\\chi^2 $\n",
    "\n",
    "\n",
    "\n",
    "<br><br><br>\n",
    "<br><br><br>\n"
   ]
  },
  {
   "cell_type": "markdown",
   "metadata": {},
   "source": [
    "# Q7\n",
    "Min Relative Entropy under constraints  \n",
    "Let $p(x),q(x), x \\in \\chi$ two probability mass functions, and let $\\mathscr{f_1,f_2,...,f_n}$\n",
    "where $\\mathscr{f_j:}\\chi \\rightarrow \\mathscr{R}$ be feature function.\n",
    "\n",
    "Given expectation constrains on the features $\\forall j : \\sum_{x}p\\big(x\\big)\\mathscr{f_i} = \\alpha_j$, what is the $p^*$ that minimize the relative Entropy $D(p||q)$?  \n",
    "\n",
    "Solve the following $p^* = argmax D\\big(p||q\\big)$ where $\\mathscr{P} = \\bigg\\{ \\forall j: \\quad p:E_p\\big[\\mathscr{f_i}\\big] = \\alpha_j \\bigg\\}$  \n",
    "Use Lagrange multipliers to derive an explicit from to $p^*$ . "
   ]
  },
  {
   "cell_type": "markdown",
   "metadata": {},
   "source": [
    "$p^* = argmax \\enspace D\\big(p||q\\big)$ where $\\mathscr{P} = \\bigg\\{ \\forall j: \\quad p:E_p\\big[\\mathscr{f_i}\\big] = \\alpha_j \\bigg\\} $  \n",
    "\n",
    "$ \\Rightarrow argmin \\enspace D\\big(p||q\\big)$ where $\\sum_{x}p(x)f_j(x)-\\alpha_j=0  $\n",
    "\n",
    "$ = argmin_p \\sum_{x}p(x)log(\\frac{p(x)}{q(x)}) - \\sum_{j} \\lambda_j \\big( p(x)f_j(x) - \\alpha_j\\big) = $\n",
    "\n",
    "$ = argmin_p \\sum_x p(x) log(\\frac{p(x)}{q(x)}) - \\sum_x \\sum_j \\lambda_j \\big( p(x)f_j(x) - \\alpha_j\\big) = $\n",
    "\n",
    "$ = argmin_p \\sum_x [ p(x) log(\\frac{p(x)}{q(x)}) - \\sum_j \\lambda_j \\big( p(x)f_j(x) - \\alpha_j\\big) ]$"
   ]
  },
  {
   "cell_type": "markdown",
   "metadata": {},
   "source": [
    "<br><br>\n",
    "<br><br>\n",
    "Thanks for reading :) "
   ]
  }
 ],
 "metadata": {
  "kernelspec": {
   "display_name": "Python 3",
   "language": "python",
   "name": "python3"
  },
  "language_info": {
   "codemirror_mode": {
    "name": "ipython",
    "version": 3
   },
   "file_extension": ".py",
   "mimetype": "text/x-python",
   "name": "python",
   "nbconvert_exporter": "python",
   "pygments_lexer": "ipython3",
   "version": "3.7.7"
  }
 },
 "nbformat": 4,
 "nbformat_minor": 4
}
